{
 "cells": [
  {
   "cell_type": "code",
   "execution_count": 28,
   "id": "4edd8f6c-3a6b-488e-b739-a8cedb8dcd9b",
   "metadata": {},
   "outputs": [
    {
     "data": {
      "text/plain": [
       "<Experiment: artifact_location='gs://mlflow-runs-mlops-zoomcamp-354700/2', experiment_id='2', lifecycle_stage='active', name='linear_regression_model', tags={}>"
      ]
     },
     "execution_count": 28,
     "metadata": {},
     "output_type": "execute_result"
    }
   ],
   "source": [
    "%reload_ext autoreload\n",
    "%autoreload 2\n",
    "\n",
    "from google.cloud import bigquery\n",
    "import matplotlib.pyplot as plt\n",
    "import numpy as np\n",
    "import pandas as pd\n",
    "import calendar\n",
    "from sklearn.linear_model import LinearRegression, Ridge\n",
    "from datetime import datetime\n",
    "import numpy as np\n",
    "import calendar\n",
    "from tqdm.auto import tqdm\n",
    "import time\n",
    "from ts_diagnostics import cross_validation, performance_metrics\n",
    "from mlflow.models.signature import infer_signature\n",
    "\n",
    "# connect to mlflow server\n",
    "import mlflow\n",
    "TRACKING_SERVER_HOST = \"10.128.0.2:5000\"\n",
    "mlflow.set_tracking_uri(f\"http://{TRACKING_SERVER_HOST}\")\n",
    "mlflow.set_experiment(\"linear_regression_model\")"
   ]
  },
  {
   "cell_type": "code",
   "execution_count": 44,
   "id": "8b9cfa80-3f1d-4968-81a2-6991b4793f4a",
   "metadata": {},
   "outputs": [],
   "source": [
    "def pull_training_data(data_start, data_end):\n",
    "    q = \"SELECT * FROM `mlops-zoomcamp-354700.energy_data_prod.joined_temp_and_demand`\"\n",
    "    df_raw = pd.read_gbq(q, project_id='mlops-zoomcamp-354700')\n",
    "    return df_raw[df_raw['energy_timestamp_mtn'].between(data_start, data_end)]\n",
    "    \n",
    "\n",
    "def trim_data(df, min_val, max_val):\n",
    "    return df[df['energy_demand'].between(min_val, max_val)].set_index('energy_timestamp_mtn')\n",
    "\n",
    "\n",
    "def make_features(df, min_y_val, max_y_val):\n",
    "    df_train = (trim_data(df, min_y_val, max_y_val)\n",
    "                                         .reset_index()\n",
    "                                         .dropna(subset=['energy_demand', 'temp_F'])\n",
    "                                         .assign(\n",
    "                                                year=lambda df_: df_['energy_timestamp_mtn'].dt.year,\n",
    "                                                day_of_year=lambda df_: df_['energy_timestamp_mtn'].dt.day_of_year,\n",
    "                                                hour=lambda df_: df_['energy_timestamp_mtn'].dt.hour,\n",
    "                                                is_weekend=lambda df_: df_['energy_timestamp_mtn'].dt.day_of_week >= 5, # saturady day_of_week = 5, sunday = 6\n",
    "                                                is_summer=lambda df_: df_['energy_timestamp_mtn'].dt.month.between(5, 9, inclusive='both'),\n",
    "                                                month=lambda df_: df_['energy_timestamp_mtn'].dt.month,\n",
    "                                                temp_F_squared=lambda df_: df_['temp_F'] * df_['temp_F'],\n",
    "                                                hour_squared=lambda df_: df_['hour'] ** 2,\n",
    "                                                hour_cubed=lambda df_: df_['hour'] ** 3,\n",
    "                                        )\n",
    "\n",
    "                                    .set_index('energy_timestamp_mtn')                                    \n",
    "  )\n",
    "\n",
    "\n",
    "    for month in calendar.month_name[1:]:\n",
    "        df_train[month] = pd.to_numeric(df_train.index.month_name == month)\n",
    "        \n",
    "    return df_train\n",
    "\n",
    "    "
   ]
  },
  {
   "cell_type": "code",
   "execution_count": 41,
   "id": "017c68d6-8824-4dce-a447-2afb0d573a62",
   "metadata": {},
   "outputs": [],
   "source": [
    "# define the max and min dates to pull training data from BQ\n",
    "data_start = datetime(2015, 8, 1)\n",
    "data_end = datetime(2021, 6, 1)\n",
    "\n",
    "# define start and end of training data for the model\n",
    "train_start_date = datetime(2015, 8, 1)\n",
    "train_end_date = datetime(2021, 1, 1)\n",
    "\n",
    "min_y_val = 2_000\n",
    "max_y_val = 11_000\n",
    "\n",
    "# define the features to include in the model\n",
    "features_to_include = ['temp_F', \n",
    "                       'year', \n",
    "                       'day_of_year', \n",
    "                       'hour', \n",
    "                       'is_weekend', \n",
    "                       'is_summer', \n",
    "                       'month', \n",
    "                       'temp_F_squared',\n",
    "                       'hour_squared',\n",
    "                       'hour_cubed',\n",
    "                      ]\n",
    "\n",
    "cv_horizon = '2 days'\n",
    "cv_initial = f'{4 * 365} days'\n",
    "cv_period = '55 days'\n",
    "\n",
    "df_raw = pull_training_data(data_start, data_end)\n",
    "df_train = make_features(df_raw, min_y_val, max_y_val)\n",
    "\n",
    "# filter \n",
    "time_filter =  (df_train.index > train_start_date) & (df_train.index < train_end_date)\n",
    "X = df_train.loc[time_filter, features_to_include]\n",
    "y = df_train.loc[time_filter, 'energy_demand']\n",
    " "
   ]
  },
  {
   "cell_type": "code",
   "execution_count": 43,
   "id": "c814c4fe-2af7-40cd-84e1-23e3c7b840fb",
   "metadata": {
    "tags": []
   },
   "outputs": [
    {
     "name": "stderr",
     "output_type": "stream",
     "text": [
      "2022/07/20 03:56:02 WARNING mlflow.utils.autologging_utils: MLflow autologging encountered a warning: \"/home/michael/miniconda3/envs/mlops2/lib/python3.9/site-packages/mlflow/models/signature.py:129: UserWarning: Hint: Inferred schema contains integer column(s). Integer columns in Python cannot represent missing values. If your input data contains missing values at inference time, it will be encoded as floats and will cause a schema enforcement error. The best way to avoid this problem is to infer the model schema based on a realistic data sample (training dataset) that includes missing values. Alternatively, you can declare integer columns as doubles (float64) whenever these columns may have missing values. See `Handling Integers With Missing Values <https://www.mlflow.org/docs/latest/models.html#handling-integers-with-missing-values>`_ for more details.\"\n"
     ]
    },
    {
     "name": "stdout",
     "output_type": "stream",
     "text": [
      "Making 10 forecasts with cutoffs between 2019-08-22 23:00:00 and 2020-12-29 23:00:00\n"
     ]
    },
    {
     "name": "stderr",
     "output_type": "stream",
     "text": [
      "  0%|                                                                                                                                                                   | 0/10 [00:00<?, ?it/s]2022/07/20 03:56:06 WARNING mlflow.utils.autologging_utils: MLflow autologging encountered a warning: \"/home/michael/miniconda3/envs/mlops2/lib/python3.9/site-packages/mlflow/models/signature.py:129: UserWarning: Hint: Inferred schema contains integer column(s). Integer columns in Python cannot represent missing values. If your input data contains missing values at inference time, it will be encoded as floats and will cause a schema enforcement error. The best way to avoid this problem is to infer the model schema based on a realistic data sample (training dataset) that includes missing values. Alternatively, you can declare integer columns as doubles (float64) whenever these columns may have missing values. See `Handling Integers With Missing Values <https://www.mlflow.org/docs/latest/models.html#handling-integers-with-missing-values>`_ for more details.\"\n",
      " 10%|███████████████▌                                                                                                                                           | 1/10 [00:02<00:24,  2.73s/it]2022/07/20 03:56:09 WARNING mlflow.utils.autologging_utils: MLflow autologging encountered a warning: \"/home/michael/miniconda3/envs/mlops2/lib/python3.9/site-packages/mlflow/models/signature.py:129: UserWarning: Hint: Inferred schema contains integer column(s). Integer columns in Python cannot represent missing values. If your input data contains missing values at inference time, it will be encoded as floats and will cause a schema enforcement error. The best way to avoid this problem is to infer the model schema based on a realistic data sample (training dataset) that includes missing values. Alternatively, you can declare integer columns as doubles (float64) whenever these columns may have missing values. See `Handling Integers With Missing Values <https://www.mlflow.org/docs/latest/models.html#handling-integers-with-missing-values>`_ for more details.\"\n",
      " 20%|███████████████████████████████                                                                                                                            | 2/10 [00:05<00:20,  2.56s/it]2022/07/20 03:56:11 WARNING mlflow.utils.autologging_utils: MLflow autologging encountered a warning: \"/home/michael/miniconda3/envs/mlops2/lib/python3.9/site-packages/mlflow/models/signature.py:129: UserWarning: Hint: Inferred schema contains integer column(s). Integer columns in Python cannot represent missing values. If your input data contains missing values at inference time, it will be encoded as floats and will cause a schema enforcement error. The best way to avoid this problem is to infer the model schema based on a realistic data sample (training dataset) that includes missing values. Alternatively, you can declare integer columns as doubles (float64) whenever these columns may have missing values. See `Handling Integers With Missing Values <https://www.mlflow.org/docs/latest/models.html#handling-integers-with-missing-values>`_ for more details.\"\n",
      " 30%|██████████████████████████████████████████████▌                                                                                                            | 3/10 [00:07<00:17,  2.50s/it]2022/07/20 03:56:14 WARNING mlflow.utils.autologging_utils: MLflow autologging encountered a warning: \"/home/michael/miniconda3/envs/mlops2/lib/python3.9/site-packages/mlflow/models/signature.py:129: UserWarning: Hint: Inferred schema contains integer column(s). Integer columns in Python cannot represent missing values. If your input data contains missing values at inference time, it will be encoded as floats and will cause a schema enforcement error. The best way to avoid this problem is to infer the model schema based on a realistic data sample (training dataset) that includes missing values. Alternatively, you can declare integer columns as doubles (float64) whenever these columns may have missing values. See `Handling Integers With Missing Values <https://www.mlflow.org/docs/latest/models.html#handling-integers-with-missing-values>`_ for more details.\"\n",
      "2022/07/20 03:56:16 WARNING mlflow.models.model: Logging model metadata to the tracking server has failed, possibly due older server version. The model artifacts have been logged successfully under gs://mlflow-runs-mlops-zoomcamp-354700/2/303079bbc52646c1a92e0c765a45e581/artifacts. In addition to exporting model artifacts, MLflow clients 1.7.0 and above attempt to record model metadata to the tracking store. If logging to a mlflow server via REST, consider upgrading the server version to MLflow 1.7.0 or above.\n",
      " 40%|██████████████████████████████████████████████████████████████                                                                                             | 4/10 [00:09<00:14,  2.40s/it]2022/07/20 03:56:16 WARNING mlflow.utils.autologging_utils: MLflow autologging encountered a warning: \"/home/michael/miniconda3/envs/mlops2/lib/python3.9/site-packages/mlflow/models/signature.py:129: UserWarning: Hint: Inferred schema contains integer column(s). Integer columns in Python cannot represent missing values. If your input data contains missing values at inference time, it will be encoded as floats and will cause a schema enforcement error. The best way to avoid this problem is to infer the model schema based on a realistic data sample (training dataset) that includes missing values. Alternatively, you can declare integer columns as doubles (float64) whenever these columns may have missing values. See `Handling Integers With Missing Values <https://www.mlflow.org/docs/latest/models.html#handling-integers-with-missing-values>`_ for more details.\"\n",
      "2022/07/20 03:56:18 WARNING mlflow.models.model: Logging model metadata to the tracking server has failed, possibly due older server version. The model artifacts have been logged successfully under gs://mlflow-runs-mlops-zoomcamp-354700/2/303079bbc52646c1a92e0c765a45e581/artifacts. In addition to exporting model artifacts, MLflow clients 1.7.0 and above attempt to record model metadata to the tracking store. If logging to a mlflow server via REST, consider upgrading the server version to MLflow 1.7.0 or above.\n",
      " 50%|█████████████████████████████████████████████████████████████████████████████▌                                                                             | 5/10 [00:12<00:12,  2.44s/it]2022/07/20 03:56:18 WARNING mlflow.utils.autologging_utils: MLflow autologging encountered a warning: \"/home/michael/miniconda3/envs/mlops2/lib/python3.9/site-packages/mlflow/models/signature.py:129: UserWarning: Hint: Inferred schema contains integer column(s). Integer columns in Python cannot represent missing values. If your input data contains missing values at inference time, it will be encoded as floats and will cause a schema enforcement error. The best way to avoid this problem is to infer the model schema based on a realistic data sample (training dataset) that includes missing values. Alternatively, you can declare integer columns as doubles (float64) whenever these columns may have missing values. See `Handling Integers With Missing Values <https://www.mlflow.org/docs/latest/models.html#handling-integers-with-missing-values>`_ for more details.\"\n",
      "2022/07/20 03:56:21 WARNING mlflow.models.model: Logging model metadata to the tracking server has failed, possibly due older server version. The model artifacts have been logged successfully under gs://mlflow-runs-mlops-zoomcamp-354700/2/303079bbc52646c1a92e0c765a45e581/artifacts. In addition to exporting model artifacts, MLflow clients 1.7.0 and above attempt to record model metadata to the tracking store. If logging to a mlflow server via REST, consider upgrading the server version to MLflow 1.7.0 or above.\n",
      " 60%|█████████████████████████████████████████████████████████████████████████████████████████████                                                              | 6/10 [00:14<00:09,  2.46s/it]2022/07/20 03:56:21 WARNING mlflow.utils.autologging_utils: MLflow autologging encountered a warning: \"/home/michael/miniconda3/envs/mlops2/lib/python3.9/site-packages/mlflow/models/signature.py:129: UserWarning: Hint: Inferred schema contains integer column(s). Integer columns in Python cannot represent missing values. If your input data contains missing values at inference time, it will be encoded as floats and will cause a schema enforcement error. The best way to avoid this problem is to infer the model schema based on a realistic data sample (training dataset) that includes missing values. Alternatively, you can declare integer columns as doubles (float64) whenever these columns may have missing values. See `Handling Integers With Missing Values <https://www.mlflow.org/docs/latest/models.html#handling-integers-with-missing-values>`_ for more details.\"\n",
      "2022/07/20 03:56:23 WARNING mlflow.models.model: Logging model metadata to the tracking server has failed, possibly due older server version. The model artifacts have been logged successfully under gs://mlflow-runs-mlops-zoomcamp-354700/2/303079bbc52646c1a92e0c765a45e581/artifacts. In addition to exporting model artifacts, MLflow clients 1.7.0 and above attempt to record model metadata to the tracking store. If logging to a mlflow server via REST, consider upgrading the server version to MLflow 1.7.0 or above.\n",
      " 70%|████████████████████████████████████████████████████████████████████████████████████████████████████████████▌                                              | 7/10 [00:17<00:07,  2.44s/it]2022/07/20 03:56:23 WARNING mlflow.utils.autologging_utils: MLflow autologging encountered a warning: \"/home/michael/miniconda3/envs/mlops2/lib/python3.9/site-packages/mlflow/models/signature.py:129: UserWarning: Hint: Inferred schema contains integer column(s). Integer columns in Python cannot represent missing values. If your input data contains missing values at inference time, it will be encoded as floats and will cause a schema enforcement error. The best way to avoid this problem is to infer the model schema based on a realistic data sample (training dataset) that includes missing values. Alternatively, you can declare integer columns as doubles (float64) whenever these columns may have missing values. See `Handling Integers With Missing Values <https://www.mlflow.org/docs/latest/models.html#handling-integers-with-missing-values>`_ for more details.\"\n",
      "2022/07/20 03:56:26 WARNING mlflow.models.model: Logging model metadata to the tracking server has failed, possibly due older server version. The model artifacts have been logged successfully under gs://mlflow-runs-mlops-zoomcamp-354700/2/303079bbc52646c1a92e0c765a45e581/artifacts. In addition to exporting model artifacts, MLflow clients 1.7.0 and above attempt to record model metadata to the tracking store. If logging to a mlflow server via REST, consider upgrading the server version to MLflow 1.7.0 or above.\n",
      " 80%|████████████████████████████████████████████████████████████████████████████████████████████████████████████████████████████                               | 8/10 [00:19<00:04,  2.46s/it]2022/07/20 03:56:26 WARNING mlflow.utils.autologging_utils: MLflow autologging encountered a warning: \"/home/michael/miniconda3/envs/mlops2/lib/python3.9/site-packages/mlflow/models/signature.py:129: UserWarning: Hint: Inferred schema contains integer column(s). Integer columns in Python cannot represent missing values. If your input data contains missing values at inference time, it will be encoded as floats and will cause a schema enforcement error. The best way to avoid this problem is to infer the model schema based on a realistic data sample (training dataset) that includes missing values. Alternatively, you can declare integer columns as doubles (float64) whenever these columns may have missing values. See `Handling Integers With Missing Values <https://www.mlflow.org/docs/latest/models.html#handling-integers-with-missing-values>`_ for more details.\"\n",
      "2022/07/20 03:56:28 WARNING mlflow.models.model: Logging model metadata to the tracking server has failed, possibly due older server version. The model artifacts have been logged successfully under gs://mlflow-runs-mlops-zoomcamp-354700/2/303079bbc52646c1a92e0c765a45e581/artifacts. In addition to exporting model artifacts, MLflow clients 1.7.0 and above attempt to record model metadata to the tracking store. If logging to a mlflow server via REST, consider upgrading the server version to MLflow 1.7.0 or above.\n",
      " 90%|███████████████████████████████████████████████████████████████████████████████████████████████████████████████████████████████████████████▌               | 9/10 [00:22<00:02,  2.47s/it]2022/07/20 03:56:28 WARNING mlflow.utils.autologging_utils: MLflow autologging encountered a warning: \"/home/michael/miniconda3/envs/mlops2/lib/python3.9/site-packages/mlflow/models/signature.py:129: UserWarning: Hint: Inferred schema contains integer column(s). Integer columns in Python cannot represent missing values. If your input data contains missing values at inference time, it will be encoded as floats and will cause a schema enforcement error. The best way to avoid this problem is to infer the model schema based on a realistic data sample (training dataset) that includes missing values. Alternatively, you can declare integer columns as doubles (float64) whenever these columns may have missing values. See `Handling Integers With Missing Values <https://www.mlflow.org/docs/latest/models.html#handling-integers-with-missing-values>`_ for more details.\"\n",
      "2022/07/20 03:56:31 WARNING mlflow.models.model: Logging model metadata to the tracking server has failed, possibly due older server version. The model artifacts have been logged successfully under gs://mlflow-runs-mlops-zoomcamp-354700/2/303079bbc52646c1a92e0c765a45e581/artifacts. In addition to exporting model artifacts, MLflow clients 1.7.0 and above attempt to record model metadata to the tracking store. If logging to a mlflow server via REST, consider upgrading the server version to MLflow 1.7.0 or above.\n",
      "100%|██████████████████████████████████████████████████████████████████████████████████████████████████████████████████████████████████████████████████████████| 10/10 [00:24<00:00,  2.47s/it]\n",
      "/home/michael/miniconda3/envs/mlops2/lib/python3.9/site-packages/mlflow/models/signature.py:129: UserWarning: Hint: Inferred schema contains integer column(s). Integer columns in Python cannot represent missing values. If your input data contains missing values at inference time, it will be encoded as floats and will cause a schema enforcement error. The best way to avoid this problem is to infer the model schema based on a realistic data sample (training dataset) that includes missing values. Alternatively, you can declare integer columns as doubles (float64) whenever these columns may have missing values. See `Handling Integers With Missing Values <https://www.mlflow.org/docs/latest/models.html#handling-integers-with-missing-values>`_ for more details.\n",
      "  inputs = _infer_schema(model_input)\n",
      "2022/07/20 03:56:33 WARNING mlflow.models.model: Logging model metadata to the tracking server has failed, possibly due older server version. The model artifacts have been logged successfully under gs://mlflow-runs-mlops-zoomcamp-354700/2/303079bbc52646c1a92e0c765a45e581/artifacts. In addition to exporting model artifacts, MLflow clients 1.7.0 and above attempt to record model metadata to the tracking store. If logging to a mlflow server via REST, consider upgrading the server version to MLflow 1.7.0 or above.\n"
     ]
    }
   ],
   "source": [
    "with mlflow.start_run():\n",
    "    model = LinearRegression(fit_intercept=True)\n",
    "\n",
    "    train_start = time.time()\n",
    "    model.fit(X, y)\n",
    "    train_end = time.time()\n",
    "\n",
    "    cv_start = time.time()\n",
    "    df_cv = cross_validation(model, \n",
    "                 X, \n",
    "                 y, \n",
    "                 cv_horizon, \n",
    "                 cv_period, \n",
    "                 cv_initial)\n",
    "    \n",
    "    df_p = (performance_metrics(df_cv, rolling_window=1)\n",
    "                            # convert time_delta to seconds\n",
    "                           .assign(horizon=lambda df_: df_['horizon'].dt.total_seconds())\n",
    "                       )\n",
    "    cv_end = time.time()\n",
    "\n",
    "    params=dict()\n",
    "    params['train_data_start_date'] = train_start_date\n",
    "    params['train_data_end_date'] = train_end_date\n",
    "    params['cv_initial'] = cv_initial\n",
    "    params['cv_horizon'] = cv_horizon\n",
    "    params['cv_period'] = cv_period\n",
    "    params['features'] = features_to_include\n",
    "    \n",
    "    \n",
    "    metrics = df_p.to_dict('records')[0]\n",
    "    metrics['train_duration_minutes'] = (train_end - train_start) / 60\n",
    "    metrics['cv_duration_minutes'] = (cv_end - cv_start) / 60\n",
    "\n",
    "    mlflow.log_params(params)\n",
    "    mlflow.log_metrics(metrics)\n",
    "    \n",
    "    signature = infer_signature(X, model.predict(X))\n",
    "    mlflow.sklearn.log_model(model, artifact_path=\"models\", signature=signature)\n",
    "    # mlflow.log_artifacts('ts_diagnostics.py')\n",
    "    # mlflow.sklearn.log_model(model, 'model')"
   ]
  },
  {
   "cell_type": "code",
   "execution_count": 34,
   "id": "b49a6ad4-3f58-4ba1-8821-a42a74cbf740",
   "metadata": {},
   "outputs": [
    {
     "data": {
      "text/plain": [
       "array([ -88.04979886,  137.40104012,    0.66634504,   61.96212739,\n",
       "       -340.23553386,   51.6999897 ,   -4.07105147,    0.95781905])"
      ]
     },
     "execution_count": 34,
     "metadata": {},
     "output_type": "execute_result"
    }
   ],
   "source": [
    "model.coef_"
   ]
  },
  {
   "cell_type": "code",
   "execution_count": 35,
   "id": "900aceda-b62e-46c0-9222-d6edacb1723e",
   "metadata": {},
   "outputs": [
    {
     "name": "stdout",
     "output_type": "stream",
     "text": [
      "['temp_F', 'year', 'day_of_year', 'hour', 'is_weekend', 'is_summer', 'month', 'temp_F_squared']\n"
     ]
    }
   ],
   "source": [
    "print(features_to_include)"
   ]
  },
  {
   "cell_type": "code",
   "execution_count": null,
   "id": "727d9798-3cef-4eef-af65-ba0b0ad7d1a0",
   "metadata": {},
   "outputs": [],
   "source": []
  }
 ],
 "metadata": {
  "kernelspec": {
   "display_name": "Python 3 (ipykernel)",
   "language": "python",
   "name": "python3"
  },
  "language_info": {
   "codemirror_mode": {
    "name": "ipython",
    "version": 3
   },
   "file_extension": ".py",
   "mimetype": "text/x-python",
   "name": "python",
   "nbconvert_exporter": "python",
   "pygments_lexer": "ipython3",
   "version": "3.9.13"
  }
 },
 "nbformat": 4,
 "nbformat_minor": 5
}
